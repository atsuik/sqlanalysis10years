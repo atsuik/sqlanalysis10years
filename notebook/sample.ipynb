{
 "cells": [
  {
   "cell_type": "markdown",
   "metadata": {},
   "source": [
    "# セットアップ\n",
    "\n",
    "jupyterからPostgreSQLに接続するための設定が以下のセルです。\n",
    "\n",
    "詳しい使い方は[JupySQLのDocument](https://jupysql.ploomber.io/en/latest/integrations/postgres-connect.html)を参照してください。"
   ]
  },
  {
   "cell_type": "code",
   "execution_count": 2,
   "metadata": {},
   "outputs": [],
   "source": [
    "%load_ext sql\n",
    "import os\n",
    "\n",
    "pgconfig = {\n",
    "    \"host\": \"db\",\n",
    "    \"port\": \"5432\",\n",
    "    \"database\": os.environ[\"POSTGRES_DB\"],\n",
    "    \"user\": os.environ[\"POSTGRES_USER\"],\n",
    "    \"password\": os.environ[\"POSTGRES_PASSWORD\"],\n",
    "}\n",
    "dsl = \"postgresql://{user}:{password}@{host}:{port}/{database}\".format(**pgconfig)\n",
    "\n",
    "os.environ[\"DATABASE_URL\"] = dsl\n",
    "%sql"
   ]
  },
  {
   "cell_type": "markdown",
   "metadata": {},
   "source": [
    "マジックコマンド `%sql` の後ろにSQLを書くとSQLを実行できます。"
   ]
  },
  {
   "cell_type": "code",
   "execution_count": 5,
   "metadata": {},
   "outputs": [
    {
     "data": {
      "text/html": [
       "<span style=\"None\">Running query in &#x27;postgresql://postgres:***@db:5432/postgres&#x27;</span>"
      ],
      "text/plain": [
       "Running query in 'postgresql://postgres:***@db:5432/postgres'"
      ]
     },
     "metadata": {},
     "output_type": "display_data"
    },
    {
     "data": {
      "text/html": [
       "<span style=\"color: green\">86 rows affected.</span>"
      ],
      "text/plain": [
       "86 rows affected."
      ]
     },
     "metadata": {},
     "output_type": "display_data"
    },
    {
     "data": {
      "text/html": [
       "<table>\n",
       "    <thead>\n",
       "        <tr>\n",
       "            <th>schemaname</th>\n",
       "            <th>tablename</th>\n",
       "            <th>tableowner</th>\n",
       "        </tr>\n",
       "    </thead>\n",
       "    <tbody>\n",
       "        <tr>\n",
       "            <td>pg_catalog</td>\n",
       "            <td>pg_statistic</td>\n",
       "            <td>postgres</td>\n",
       "        </tr>\n",
       "        <tr>\n",
       "            <td>pg_catalog</td>\n",
       "            <td>pg_type</td>\n",
       "            <td>postgres</td>\n",
       "        </tr>\n",
       "        <tr>\n",
       "            <td>pg_catalog</td>\n",
       "            <td>pg_foreign_table</td>\n",
       "            <td>postgres</td>\n",
       "        </tr>\n",
       "        <tr>\n",
       "            <td>pg_catalog</td>\n",
       "            <td>pg_authid</td>\n",
       "            <td>postgres</td>\n",
       "        </tr>\n",
       "        <tr>\n",
       "            <td>pg_catalog</td>\n",
       "            <td>pg_statistic_ext_data</td>\n",
       "            <td>postgres</td>\n",
       "        </tr>\n",
       "        <tr>\n",
       "            <td>public</td>\n",
       "            <td>access_log_wide</td>\n",
       "            <td>postgres</td>\n",
       "        </tr>\n",
       "        <tr>\n",
       "            <td>public</td>\n",
       "            <td>access_log_dyn</td>\n",
       "            <td>postgres</td>\n",
       "        </tr>\n",
       "        <tr>\n",
       "            <td>public</td>\n",
       "            <td>search_log_dyn</td>\n",
       "            <td>postgres</td>\n",
       "        </tr>\n",
       "        <tr>\n",
       "            <td>public</td>\n",
       "            <td>monthly_sales</td>\n",
       "            <td>postgres</td>\n",
       "        </tr>\n",
       "        <tr>\n",
       "            <td>public</td>\n",
       "            <td>yearly_orders</td>\n",
       "            <td>postgres</td>\n",
       "        </tr>\n",
       "    </tbody>\n",
       "</table>\n",
       "<span style=\"font-style:italic;text-align:center;\">86 rows, truncated to displaylimit of 10</span><br><span style=\"font-style:italic;text-align:center;\">If you want to see more, please visit <a href=\"https://jupysql.ploomber.io/en/latest/api/configuration.html#displaylimit\">displaylimit</a> configuration</span>"
      ],
      "text/plain": [
       "+------------+-----------------------+------------+\n",
       "| schemaname |       tablename       | tableowner |\n",
       "+------------+-----------------------+------------+\n",
       "| pg_catalog |      pg_statistic     |  postgres  |\n",
       "| pg_catalog |        pg_type        |  postgres  |\n",
       "| pg_catalog |    pg_foreign_table   |  postgres  |\n",
       "| pg_catalog |       pg_authid       |  postgres  |\n",
       "| pg_catalog | pg_statistic_ext_data |  postgres  |\n",
       "|   public   |    access_log_wide    |  postgres  |\n",
       "|   public   |     access_log_dyn    |  postgres  |\n",
       "|   public   |     search_log_dyn    |  postgres  |\n",
       "|   public   |     monthly_sales     |  postgres  |\n",
       "|   public   |     yearly_orders     |  postgres  |\n",
       "+------------+-----------------------+------------+"
      ]
     },
     "execution_count": 5,
     "metadata": {},
     "output_type": "execute_result"
    }
   ],
   "source": [
    "%sql select schemaname, tablename, tableowner from pg_tables;"
   ]
  },
  {
   "cell_type": "markdown",
   "metadata": {},
   "source": [
    "`%%sql` を使うと複数行のSQLを実行することができます。"
   ]
  },
  {
   "cell_type": "code",
   "execution_count": 5,
   "metadata": {},
   "outputs": [
    {
     "data": {
      "text/html": [
       "<span style=\"None\">Running query in &#x27;postgresql://postgres:***@db:5432/postgres&#x27;</span>"
      ],
      "text/plain": [
       "Running query in 'postgresql://postgres:***@db:5432/postgres'"
      ]
     },
     "metadata": {},
     "output_type": "display_data"
    },
    {
     "data": {
      "text/html": [
       "<span style=\"color: green\">10 rows affected.</span>"
      ],
      "text/plain": [
       "10 rows affected."
      ]
     },
     "metadata": {},
     "output_type": "display_data"
    },
    {
     "data": {
      "text/html": [
       "<table>\n",
       "    <thead>\n",
       "        <tr>\n",
       "            <th>request_time</th>\n",
       "            <th>request_method</th>\n",
       "            <th>request_path</th>\n",
       "            <th>customer_id</th>\n",
       "            <th>search_hit</th>\n",
       "            <th>referer</th>\n",
       "        </tr>\n",
       "    </thead>\n",
       "    <tbody>\n",
       "        <tr>\n",
       "            <td>2012-01-01 00:02:45</td>\n",
       "            <td>GET</td>\n",
       "            <td>/items/218</td>\n",
       "            <td>59856</td>\n",
       "            <td>None</td>\n",
       "            <td>/search</td>\n",
       "        </tr>\n",
       "        <tr>\n",
       "            <td>2012-01-01 00:01:43</td>\n",
       "            <td>GET</td>\n",
       "            <td>/</td>\n",
       "            <td>79868</td>\n",
       "            <td>None</td>\n",
       "            <td><a href=http://google.co.jp>http://google.co.jp</a></td>\n",
       "        </tr>\n",
       "        <tr>\n",
       "            <td>2012-01-01 00:05:00</td>\n",
       "            <td>GET</td>\n",
       "            <td>/</td>\n",
       "            <td>70345</td>\n",
       "            <td>None</td>\n",
       "            <td>None</td>\n",
       "        </tr>\n",
       "        <tr>\n",
       "            <td>2012-01-01 00:06:38</td>\n",
       "            <td>GET</td>\n",
       "            <td>/</td>\n",
       "            <td>95994</td>\n",
       "            <td>None</td>\n",
       "            <td>None</td>\n",
       "        </tr>\n",
       "        <tr>\n",
       "            <td>2012-01-01 00:12:30</td>\n",
       "            <td>GET</td>\n",
       "            <td>/items/201</td>\n",
       "            <td>86329</td>\n",
       "            <td>None</td>\n",
       "            <td>/search</td>\n",
       "        </tr>\n",
       "        <tr>\n",
       "            <td>2012-01-01 00:09:57</td>\n",
       "            <td>GET</td>\n",
       "            <td>/shops/24</td>\n",
       "            <td>71941</td>\n",
       "            <td>None</td>\n",
       "            <td>None</td>\n",
       "        </tr>\n",
       "        <tr>\n",
       "            <td>2012-01-01 00:11:35</td>\n",
       "            <td>GET</td>\n",
       "            <td>/</td>\n",
       "            <td>89238</td>\n",
       "            <td>None</td>\n",
       "            <td><a href=http://google.co.jp>http://google.co.jp</a></td>\n",
       "        </tr>\n",
       "        <tr>\n",
       "            <td>2012-01-01 00:16:34</td>\n",
       "            <td>GET</td>\n",
       "            <td>/</td>\n",
       "            <td>90937</td>\n",
       "            <td>None</td>\n",
       "            <td><a href=http://google.co.jp>http://google.co.jp</a></td>\n",
       "        </tr>\n",
       "        <tr>\n",
       "            <td>2012-01-01 00:18:20</td>\n",
       "            <td>GET</td>\n",
       "            <td>/items/194</td>\n",
       "            <td>50886</td>\n",
       "            <td>None</td>\n",
       "            <td>/search</td>\n",
       "        </tr>\n",
       "        <tr>\n",
       "            <td>2012-01-01 00:25:16</td>\n",
       "            <td>GET</td>\n",
       "            <td>/items/54</td>\n",
       "            <td>98827</td>\n",
       "            <td>None</td>\n",
       "            <td>/search</td>\n",
       "        </tr>\n",
       "    </tbody>\n",
       "</table>"
      ],
      "text/plain": [
       "+---------------------+----------------+--------------+-------------+------------+-----------------------------------------------------+\n",
       "|     request_time    | request_method | request_path | customer_id | search_hit |                       referer                       |\n",
       "+---------------------+----------------+--------------+-------------+------------+-----------------------------------------------------+\n",
       "| 2012-01-01 00:02:45 |      GET       |  /items/218  |    59856    |    None    |                       /search                       |\n",
       "| 2012-01-01 00:01:43 |      GET       |      /       |    79868    |    None    | <a href=http://google.co.jp>http://google.co.jp</a> |\n",
       "| 2012-01-01 00:05:00 |      GET       |      /       |    70345    |    None    |                         None                        |\n",
       "| 2012-01-01 00:06:38 |      GET       |      /       |    95994    |    None    |                         None                        |\n",
       "| 2012-01-01 00:12:30 |      GET       |  /items/201  |    86329    |    None    |                       /search                       |\n",
       "| 2012-01-01 00:09:57 |      GET       |  /shops/24   |    71941    |    None    |                         None                        |\n",
       "| 2012-01-01 00:11:35 |      GET       |      /       |    89238    |    None    | <a href=http://google.co.jp>http://google.co.jp</a> |\n",
       "| 2012-01-01 00:16:34 |      GET       |      /       |    90937    |    None    | <a href=http://google.co.jp>http://google.co.jp</a> |\n",
       "| 2012-01-01 00:18:20 |      GET       |  /items/194  |    50886    |    None    |                       /search                       |\n",
       "| 2012-01-01 00:25:16 |      GET       |  /items/54   |    98827    |    None    |                       /search                       |\n",
       "+---------------------+----------------+--------------+-------------+------------+-----------------------------------------------------+"
      ]
     },
     "execution_count": 5,
     "metadata": {},
     "output_type": "execute_result"
    }
   ],
   "source": [
    "%%sql\n",
    "select \n",
    "    *\n",
    "from access_log\n",
    "where\n",
    "    request_method = 'GET'\n",
    "limit 10\n",
    ";"
   ]
  }
 ],
 "metadata": {
  "kernelspec": {
   "display_name": "base",
   "language": "python",
   "name": "python3"
  },
  "language_info": {
   "codemirror_mode": {
    "name": "ipython",
    "version": 3
   },
   "file_extension": ".py",
   "mimetype": "text/x-python",
   "name": "python",
   "nbconvert_exporter": "python",
   "pygments_lexer": "ipython3",
   "version": "3.11.4"
  },
  "orig_nbformat": 4
 },
 "nbformat": 4,
 "nbformat_minor": 2
}
