{
 "cells": [
  {
   "cell_type": "markdown",
   "metadata": {},
   "source": [
    "# セットアップ\n",
    "\n",
    "jupyterからPostgreSQLに接続するための設定が以下のセルです。"
   ]
  },
  {
   "cell_type": "code",
   "execution_count": 1,
   "metadata": {},
   "outputs": [],
   "source": [
    "%load_ext sql\n",
    "import os\n",
    "\n",
    "pgconfig = {\n",
    "    \"host\": \"db\",\n",
    "    \"port\": \"5432\",\n",
    "    \"database\": os.environ[\"POSTGRES_DB\"],\n",
    "    \"user\": os.environ[\"POSTGRES_USER\"],\n",
    "    \"password\": os.environ[\"POSTGRES_PASSWORD\"],\n",
    "}\n",
    "dsl = \"postgresql://{user}:{password}@{host}:{port}/{database}\".format(**pgconfig)\n",
    "\n",
    "os.environ[\"DATABASE_URL\"] = dsl\n",
    "%sql"
   ]
  },
  {
   "cell_type": "code",
   "execution_count": 5,
   "metadata": {},
   "outputs": [
    {
     "data": {
      "text/html": [
       "<span style=\"None\">Running query in &#x27;postgresql://postgres:***@db:5432/postgres&#x27;</span>"
      ],
      "text/plain": [
       "Running query in 'postgresql://postgres:***@db:5432/postgres'"
      ]
     },
     "metadata": {},
     "output_type": "display_data"
    },
    {
     "data": {
      "text/html": [
       "<span style=\"color: green\">86 rows affected.</span>"
      ],
      "text/plain": [
       "86 rows affected."
      ]
     },
     "metadata": {},
     "output_type": "display_data"
    },
    {
     "data": {
      "text/html": [
       "<table>\n",
       "    <thead>\n",
       "        <tr>\n",
       "            <th>schemaname</th>\n",
       "            <th>tablename</th>\n",
       "            <th>tableowner</th>\n",
       "        </tr>\n",
       "    </thead>\n",
       "    <tbody>\n",
       "        <tr>\n",
       "            <td>pg_catalog</td>\n",
       "            <td>pg_statistic</td>\n",
       "            <td>postgres</td>\n",
       "        </tr>\n",
       "        <tr>\n",
       "            <td>pg_catalog</td>\n",
       "            <td>pg_type</td>\n",
       "            <td>postgres</td>\n",
       "        </tr>\n",
       "        <tr>\n",
       "            <td>pg_catalog</td>\n",
       "            <td>pg_foreign_table</td>\n",
       "            <td>postgres</td>\n",
       "        </tr>\n",
       "        <tr>\n",
       "            <td>pg_catalog</td>\n",
       "            <td>pg_authid</td>\n",
       "            <td>postgres</td>\n",
       "        </tr>\n",
       "        <tr>\n",
       "            <td>pg_catalog</td>\n",
       "            <td>pg_statistic_ext_data</td>\n",
       "            <td>postgres</td>\n",
       "        </tr>\n",
       "        <tr>\n",
       "            <td>public</td>\n",
       "            <td>access_log_wide</td>\n",
       "            <td>postgres</td>\n",
       "        </tr>\n",
       "        <tr>\n",
       "            <td>public</td>\n",
       "            <td>access_log_dyn</td>\n",
       "            <td>postgres</td>\n",
       "        </tr>\n",
       "        <tr>\n",
       "            <td>public</td>\n",
       "            <td>search_log_dyn</td>\n",
       "            <td>postgres</td>\n",
       "        </tr>\n",
       "        <tr>\n",
       "            <td>public</td>\n",
       "            <td>monthly_sales</td>\n",
       "            <td>postgres</td>\n",
       "        </tr>\n",
       "        <tr>\n",
       "            <td>public</td>\n",
       "            <td>yearly_orders</td>\n",
       "            <td>postgres</td>\n",
       "        </tr>\n",
       "    </tbody>\n",
       "</table>\n",
       "<span style=\"font-style:italic;text-align:center;\">86 rows, truncated to displaylimit of 10</span><br><span style=\"font-style:italic;text-align:center;\">If you want to see more, please visit <a href=\"https://jupysql.ploomber.io/en/latest/api/configuration.html#displaylimit\">displaylimit</a> configuration</span>"
      ],
      "text/plain": [
       "+------------+-----------------------+------------+\n",
       "| schemaname |       tablename       | tableowner |\n",
       "+------------+-----------------------+------------+\n",
       "| pg_catalog |      pg_statistic     |  postgres  |\n",
       "| pg_catalog |        pg_type        |  postgres  |\n",
       "| pg_catalog |    pg_foreign_table   |  postgres  |\n",
       "| pg_catalog |       pg_authid       |  postgres  |\n",
       "| pg_catalog | pg_statistic_ext_data |  postgres  |\n",
       "|   public   |    access_log_wide    |  postgres  |\n",
       "|   public   |     access_log_dyn    |  postgres  |\n",
       "|   public   |     search_log_dyn    |  postgres  |\n",
       "|   public   |     monthly_sales     |  postgres  |\n",
       "|   public   |     yearly_orders     |  postgres  |\n",
       "+------------+-----------------------+------------+"
      ]
     },
     "execution_count": 5,
     "metadata": {},
     "output_type": "execute_result"
    }
   ],
   "source": [
    "%sql select schemaname, tablename, tableowner from pg_tables;"
   ]
  },
  {
   "cell_type": "code",
   "execution_count": 6,
   "metadata": {},
   "outputs": [
    {
     "data": {
      "text/html": [
       "<span style=\"None\">Running query in &#x27;postgresql://postgres:***@db:5432/postgres&#x27;</span>"
      ],
      "text/plain": [
       "Running query in 'postgresql://postgres:***@db:5432/postgres'"
      ]
     },
     "metadata": {},
     "output_type": "display_data"
    },
    {
     "data": {
      "text/html": [
       "<span style=\"color: green\">3 rows affected.</span>"
      ],
      "text/plain": [
       "3 rows affected."
      ]
     },
     "metadata": {},
     "output_type": "display_data"
    },
    {
     "data": {
      "text/html": [
       "<table>\n",
       "    <thead>\n",
       "        <tr>\n",
       "            <th>oid</th>\n",
       "            <th>datname</th>\n",
       "            <th>datdba</th>\n",
       "            <th>encoding</th>\n",
       "            <th>datlocprovider</th>\n",
       "            <th>datistemplate</th>\n",
       "            <th>datallowconn</th>\n",
       "            <th>datconnlimit</th>\n",
       "            <th>datfrozenxid</th>\n",
       "            <th>datminmxid</th>\n",
       "            <th>dattablespace</th>\n",
       "            <th>datcollate</th>\n",
       "            <th>datctype</th>\n",
       "            <th>daticulocale</th>\n",
       "            <th>datcollversion</th>\n",
       "            <th>datacl</th>\n",
       "        </tr>\n",
       "    </thead>\n",
       "    <tbody>\n",
       "        <tr>\n",
       "            <td>5</td>\n",
       "            <td>postgres</td>\n",
       "            <td>10</td>\n",
       "            <td>6</td>\n",
       "            <td>c</td>\n",
       "            <td>False</td>\n",
       "            <td>True</td>\n",
       "            <td>-1</td>\n",
       "            <td>717</td>\n",
       "            <td>1</td>\n",
       "            <td>1663</td>\n",
       "            <td>en_US.utf8</td>\n",
       "            <td>en_US.utf8</td>\n",
       "            <td>None</td>\n",
       "            <td>2.36</td>\n",
       "            <td>None</td>\n",
       "        </tr>\n",
       "        <tr>\n",
       "            <td>1</td>\n",
       "            <td>template1</td>\n",
       "            <td>10</td>\n",
       "            <td>6</td>\n",
       "            <td>c</td>\n",
       "            <td>True</td>\n",
       "            <td>True</td>\n",
       "            <td>-1</td>\n",
       "            <td>717</td>\n",
       "            <td>1</td>\n",
       "            <td>1663</td>\n",
       "            <td>en_US.utf8</td>\n",
       "            <td>en_US.utf8</td>\n",
       "            <td>None</td>\n",
       "            <td>2.36</td>\n",
       "            <td>{=c/postgres,postgres=CTc/postgres}</td>\n",
       "        </tr>\n",
       "        <tr>\n",
       "            <td>4</td>\n",
       "            <td>template0</td>\n",
       "            <td>10</td>\n",
       "            <td>6</td>\n",
       "            <td>c</td>\n",
       "            <td>True</td>\n",
       "            <td>False</td>\n",
       "            <td>-1</td>\n",
       "            <td>717</td>\n",
       "            <td>1</td>\n",
       "            <td>1663</td>\n",
       "            <td>en_US.utf8</td>\n",
       "            <td>en_US.utf8</td>\n",
       "            <td>None</td>\n",
       "            <td>None</td>\n",
       "            <td>{=c/postgres,postgres=CTc/postgres}</td>\n",
       "        </tr>\n",
       "    </tbody>\n",
       "</table>"
      ],
      "text/plain": [
       "+-----+-----------+--------+----------+----------------+---------------+--------------+--------------+--------------+------------+---------------+------------+------------+--------------+----------------+-------------------------------------+\n",
       "| oid |  datname  | datdba | encoding | datlocprovider | datistemplate | datallowconn | datconnlimit | datfrozenxid | datminmxid | dattablespace | datcollate |  datctype  | daticulocale | datcollversion |                datacl               |\n",
       "+-----+-----------+--------+----------+----------------+---------------+--------------+--------------+--------------+------------+---------------+------------+------------+--------------+----------------+-------------------------------------+\n",
       "|  5  |  postgres |   10   |    6     |       c        |     False     |     True     |      -1      |     717      |     1      |      1663     | en_US.utf8 | en_US.utf8 |     None     |      2.36      |                 None                |\n",
       "|  1  | template1 |   10   |    6     |       c        |      True     |     True     |      -1      |     717      |     1      |      1663     | en_US.utf8 | en_US.utf8 |     None     |      2.36      | {=c/postgres,postgres=CTc/postgres} |\n",
       "|  4  | template0 |   10   |    6     |       c        |      True     |    False     |      -1      |     717      |     1      |      1663     | en_US.utf8 | en_US.utf8 |     None     |      None      | {=c/postgres,postgres=CTc/postgres} |\n",
       "+-----+-----------+--------+----------+----------------+---------------+--------------+--------------+--------------+------------+---------------+------------+------------+--------------+----------------+-------------------------------------+"
      ]
     },
     "execution_count": 6,
     "metadata": {},
     "output_type": "execute_result"
    }
   ],
   "source": [
    "%sql select * from pg_database ;"
   ]
  },
  {
   "cell_type": "code",
   "execution_count": 3,
   "metadata": {},
   "outputs": [
    {
     "data": {
      "text/html": [
       "<span style=\"None\">Running query in &#x27;postgresql://postgres:***@db:5432/postgres&#x27;</span>"
      ],
      "text/plain": [
       "Running query in 'postgresql://postgres:***@db:5432/postgres'"
      ]
     },
     "metadata": {},
     "output_type": "display_data"
    },
    {
     "data": {
      "text/html": [
       "<span style=\"color: green\">10 rows affected.</span>"
      ],
      "text/plain": [
       "10 rows affected."
      ]
     },
     "metadata": {},
     "output_type": "display_data"
    },
    {
     "data": {
      "text/html": [
       "<table>\n",
       "    <thead>\n",
       "        <tr>\n",
       "            <th>request_time</th>\n",
       "            <th>request_method</th>\n",
       "            <th>request_path</th>\n",
       "            <th>customer_id</th>\n",
       "            <th>search_hit</th>\n",
       "            <th>referer</th>\n",
       "        </tr>\n",
       "    </thead>\n",
       "    <tbody>\n",
       "        <tr>\n",
       "            <td>2012-01-01 00:00:02</td>\n",
       "            <td>POST</td>\n",
       "            <td>/search</td>\n",
       "            <td>59856</td>\n",
       "            <td>38</td>\n",
       "            <td>None</td>\n",
       "        </tr>\n",
       "        <tr>\n",
       "            <td>2012-01-01 00:02:45</td>\n",
       "            <td>GET</td>\n",
       "            <td>/items/218</td>\n",
       "            <td>59856</td>\n",
       "            <td>None</td>\n",
       "            <td>/search</td>\n",
       "        </tr>\n",
       "        <tr>\n",
       "            <td>2012-01-01 00:04:07</td>\n",
       "            <td>POST</td>\n",
       "            <td>/search</td>\n",
       "            <td>59856</td>\n",
       "            <td>25</td>\n",
       "            <td>/items/218</td>\n",
       "        </tr>\n",
       "        <tr>\n",
       "            <td>2012-01-01 00:01:43</td>\n",
       "            <td>GET</td>\n",
       "            <td>/</td>\n",
       "            <td>79868</td>\n",
       "            <td>None</td>\n",
       "            <td><a href=http://google.co.jp>http://google.co.jp</a></td>\n",
       "        </tr>\n",
       "        <tr>\n",
       "            <td>2012-01-01 00:03:20</td>\n",
       "            <td>POST</td>\n",
       "            <td>/search</td>\n",
       "            <td>84526</td>\n",
       "            <td>26</td>\n",
       "            <td>None</td>\n",
       "        </tr>\n",
       "        <tr>\n",
       "            <td>2012-01-01 00:05:00</td>\n",
       "            <td>GET</td>\n",
       "            <td>/</td>\n",
       "            <td>70345</td>\n",
       "            <td>None</td>\n",
       "            <td>None</td>\n",
       "        </tr>\n",
       "        <tr>\n",
       "            <td>2012-01-01 00:05:10</td>\n",
       "            <td>POST</td>\n",
       "            <td>/search</td>\n",
       "            <td>70345</td>\n",
       "            <td>38</td>\n",
       "            <td>/</td>\n",
       "        </tr>\n",
       "        <tr>\n",
       "            <td>2012-01-01 00:05:52</td>\n",
       "            <td>POST</td>\n",
       "            <td>/search</td>\n",
       "            <td>70345</td>\n",
       "            <td>43</td>\n",
       "            <td>/search</td>\n",
       "        </tr>\n",
       "        <tr>\n",
       "            <td>2012-01-01 00:07:11</td>\n",
       "            <td>POST</td>\n",
       "            <td>/search</td>\n",
       "            <td>70345</td>\n",
       "            <td>22</td>\n",
       "            <td>/search</td>\n",
       "        </tr>\n",
       "        <tr>\n",
       "            <td>2012-01-01 00:06:38</td>\n",
       "            <td>GET</td>\n",
       "            <td>/</td>\n",
       "            <td>95994</td>\n",
       "            <td>None</td>\n",
       "            <td>None</td>\n",
       "        </tr>\n",
       "    </tbody>\n",
       "</table>"
      ],
      "text/plain": [
       "+---------------------+----------------+--------------+-------------+------------+-----------------------------------------------------+\n",
       "|     request_time    | request_method | request_path | customer_id | search_hit |                       referer                       |\n",
       "+---------------------+----------------+--------------+-------------+------------+-----------------------------------------------------+\n",
       "| 2012-01-01 00:00:02 |      POST      |   /search    |    59856    |     38     |                         None                        |\n",
       "| 2012-01-01 00:02:45 |      GET       |  /items/218  |    59856    |    None    |                       /search                       |\n",
       "| 2012-01-01 00:04:07 |      POST      |   /search    |    59856    |     25     |                      /items/218                     |\n",
       "| 2012-01-01 00:01:43 |      GET       |      /       |    79868    |    None    | <a href=http://google.co.jp>http://google.co.jp</a> |\n",
       "| 2012-01-01 00:03:20 |      POST      |   /search    |    84526    |     26     |                         None                        |\n",
       "| 2012-01-01 00:05:00 |      GET       |      /       |    70345    |    None    |                         None                        |\n",
       "| 2012-01-01 00:05:10 |      POST      |   /search    |    70345    |     38     |                          /                          |\n",
       "| 2012-01-01 00:05:52 |      POST      |   /search    |    70345    |     43     |                       /search                       |\n",
       "| 2012-01-01 00:07:11 |      POST      |   /search    |    70345    |     22     |                       /search                       |\n",
       "| 2012-01-01 00:06:38 |      GET       |      /       |    95994    |    None    |                         None                        |\n",
       "+---------------------+----------------+--------------+-------------+------------+-----------------------------------------------------+"
      ]
     },
     "execution_count": 3,
     "metadata": {},
     "output_type": "execute_result"
    }
   ],
   "source": [
    "%%sql\n",
    "select * from access_log limit 10;"
   ]
  },
  {
   "cell_type": "code",
   "execution_count": 10,
   "metadata": {},
   "outputs": [
    {
     "data": {
      "text/html": [
       "<span style=\"None\">Running query in &#x27;postgresql://postgres:***@db:5432/postgres&#x27;</span>"
      ],
      "text/plain": [
       "Running query in 'postgresql://postgres:***@db:5432/postgres'"
      ]
     },
     "metadata": {},
     "output_type": "display_data"
    },
    {
     "data": {
      "text/plain": []
     },
     "execution_count": 10,
     "metadata": {},
     "output_type": "execute_result"
    }
   ],
   "source": [
    "%sql rollback;"
   ]
  },
  {
   "cell_type": "code",
   "execution_count": 7,
   "metadata": {},
   "outputs": [
    {
     "data": {
      "text/html": [
       "<span style=\"None\">Running query in &#x27;postgresql://postgres:***@db:5432/postgres&#x27;</span>"
      ],
      "text/plain": [
       "Running query in 'postgresql://postgres:***@db:5432/postgres'"
      ]
     },
     "metadata": {},
     "output_type": "display_data"
    },
    {
     "data": {
      "text/html": [
       "<span style=\"color: green\">5 rows affected.</span>"
      ],
      "text/plain": [
       "5 rows affected."
      ]
     },
     "metadata": {},
     "output_type": "display_data"
    },
    {
     "data": {
      "text/html": [
       "<table>\n",
       "    <thead>\n",
       "        <tr>\n",
       "            <th>request_time</th>\n",
       "            <th>request_month</th>\n",
       "            <th>request_method</th>\n",
       "            <th>request_path</th>\n",
       "            <th>customer_id</th>\n",
       "            <th>customer_name</th>\n",
       "            <th>customer_age</th>\n",
       "            <th>customer_birthday</th>\n",
       "            <th>search_hit</th>\n",
       "            <th>referer</th>\n",
       "        </tr>\n",
       "    </thead>\n",
       "    <tbody>\n",
       "        <tr>\n",
       "            <td>2014-12-29 03:34:01</td>\n",
       "            <td>2014-12</td>\n",
       "            <td>GET</td>\n",
       "            <td>/</td>\n",
       "            <td>54115</td>\n",
       "            <td>森一郎</td>\n",
       "            <td>26</td>\n",
       "            <td>1989-05-16</td>\n",
       "            <td>None</td>\n",
       "            <td><a href=https://google.co.jp>https://google.co.jp</a></td>\n",
       "        </tr>\n",
       "        <tr>\n",
       "            <td>2014-12-29 03:34:05</td>\n",
       "            <td>2014-12</td>\n",
       "            <td>GET</td>\n",
       "            <td>/search</td>\n",
       "            <td>104097</td>\n",
       "            <td>丸山冴子</td>\n",
       "            <td>19</td>\n",
       "            <td>1996-08-01</td>\n",
       "            <td>154</td>\n",
       "            <td>/</td>\n",
       "        </tr>\n",
       "        <tr>\n",
       "            <td>2014-12-29 03:34:34</td>\n",
       "            <td>2014-12</td>\n",
       "            <td>GET</td>\n",
       "            <td>/</td>\n",
       "            <td>324</td>\n",
       "            <td>陣内太郎</td>\n",
       "            <td>37</td>\n",
       "            <td>1978-11-21</td>\n",
       "            <td>None</td>\n",
       "            <td><a href=https://google.co.jp>https://google.co.jp</a></td>\n",
       "        </tr>\n",
       "        <tr>\n",
       "            <td>2014-12-29 03:34:40</td>\n",
       "            <td>2014-12</td>\n",
       "            <td>GET</td>\n",
       "            <td>/</td>\n",
       "            <td>104097</td>\n",
       "            <td>丸山冴子</td>\n",
       "            <td>19</td>\n",
       "            <td>1996-08-01</td>\n",
       "            <td>None</td>\n",
       "            <td>/search</td>\n",
       "        </tr>\n",
       "        <tr>\n",
       "            <td>2014-12-29 03:35:05</td>\n",
       "            <td>2014-12</td>\n",
       "            <td>GET</td>\n",
       "            <td>/items/531415</td>\n",
       "            <td>93292</td>\n",
       "            <td>綾小路涼</td>\n",
       "            <td>41</td>\n",
       "            <td>1974-02-21</td>\n",
       "            <td>None</td>\n",
       "            <td>/search</td>\n",
       "        </tr>\n",
       "    </tbody>\n",
       "</table>"
      ],
      "text/plain": [
       "+---------------------+---------------+----------------+---------------+-------------+---------------+--------------+-------------------+------------+-------------------------------------------------------+\n",
       "|     request_time    | request_month | request_method |  request_path | customer_id | customer_name | customer_age | customer_birthday | search_hit |                        referer                        |\n",
       "+---------------------+---------------+----------------+---------------+-------------+---------------+--------------+-------------------+------------+-------------------------------------------------------+\n",
       "| 2014-12-29 03:34:01 |    2014-12    |      GET       |       /       |    54115    |     森一郎    |      26      |     1989-05-16    |    None    | <a href=https://google.co.jp>https://google.co.jp</a> |\n",
       "| 2014-12-29 03:34:05 |    2014-12    |      GET       |    /search    |    104097   |    丸山冴子   |      19      |     1996-08-01    |    154     |                           /                           |\n",
       "| 2014-12-29 03:34:34 |    2014-12    |      GET       |       /       |     324     |    陣内太郎   |      37      |     1978-11-21    |    None    | <a href=https://google.co.jp>https://google.co.jp</a> |\n",
       "| 2014-12-29 03:34:40 |    2014-12    |      GET       |       /       |    104097   |    丸山冴子   |      19      |     1996-08-01    |    None    |                        /search                        |\n",
       "| 2014-12-29 03:35:05 |    2014-12    |      GET       | /items/531415 |    93292    |    綾小路涼   |      41      |     1974-02-21    |    None    |                        /search                        |\n",
       "+---------------------+---------------+----------------+---------------+-------------+---------------+--------------+-------------------+------------+-------------------------------------------------------+"
      ]
     },
     "execution_count": 7,
     "metadata": {},
     "output_type": "execute_result"
    }
   ],
   "source": [
    "%sql select * from access_log_wide;"
   ]
  },
  {
   "cell_type": "code",
   "execution_count": 9,
   "metadata": {},
   "outputs": [
    {
     "data": {
      "text/html": [
       "<span style=\"None\">Running query in &#x27;postgresql://postgres:***@db:5432/postgres&#x27;</span>"
      ],
      "text/plain": [
       "Running query in 'postgresql://postgres:***@db:5432/postgres'"
      ]
     },
     "metadata": {},
     "output_type": "display_data"
    },
    {
     "data": {
      "text/html": [
       "<span style=\"color: green\">5 rows affected.</span>"
      ],
      "text/plain": [
       "5 rows affected."
      ]
     },
     "metadata": {},
     "output_type": "display_data"
    },
    {
     "data": {
      "text/html": [
       "<table>\n",
       "    <thead>\n",
       "        <tr>\n",
       "            <th>request_time</th>\n",
       "            <th>customer_id</th>\n",
       "        </tr>\n",
       "    </thead>\n",
       "    <tbody>\n",
       "        <tr>\n",
       "            <td>2014-12-29 03:34:01</td>\n",
       "            <td>54115</td>\n",
       "        </tr>\n",
       "        <tr>\n",
       "            <td>2014-12-29 03:34:05</td>\n",
       "            <td>104097</td>\n",
       "        </tr>\n",
       "        <tr>\n",
       "            <td>2014-12-29 03:34:34</td>\n",
       "            <td>324</td>\n",
       "        </tr>\n",
       "        <tr>\n",
       "            <td>2014-12-29 03:34:40</td>\n",
       "            <td>104097</td>\n",
       "        </tr>\n",
       "        <tr>\n",
       "            <td>2014-12-29 03:35:05</td>\n",
       "            <td>93292</td>\n",
       "        </tr>\n",
       "    </tbody>\n",
       "</table>"
      ],
      "text/plain": [
       "+---------------------+-------------+\n",
       "|     request_time    | customer_id |\n",
       "+---------------------+-------------+\n",
       "| 2014-12-29 03:34:01 |    54115    |\n",
       "| 2014-12-29 03:34:05 |    104097   |\n",
       "| 2014-12-29 03:34:34 |     324     |\n",
       "| 2014-12-29 03:34:40 |    104097   |\n",
       "| 2014-12-29 03:35:05 |    93292    |\n",
       "+---------------------+-------------+"
      ]
     },
     "execution_count": 9,
     "metadata": {},
     "output_type": "execute_result"
    }
   ],
   "source": [
    "%%sql\n",
    "select\n",
    " request_time, customer_id\n",
    "from\n",
    "  access_log_wide\n",
    ";"
   ]
  },
  {
   "cell_type": "code",
   "execution_count": 12,
   "metadata": {},
   "outputs": [
    {
     "data": {
      "text/html": [
       "<span style=\"None\">Running query in &#x27;postgresql://postgres:***@db:5432/postgres&#x27;</span>"
      ],
      "text/plain": [
       "Running query in 'postgresql://postgres:***@db:5432/postgres'"
      ]
     },
     "metadata": {},
     "output_type": "display_data"
    },
    {
     "data": {
      "text/html": [
       "<span style=\"color: green\">1 rows affected.</span>"
      ],
      "text/plain": [
       "1 rows affected."
      ]
     },
     "metadata": {},
     "output_type": "display_data"
    },
    {
     "data": {
      "text/html": [
       "<table>\n",
       "    <thead>\n",
       "        <tr>\n",
       "            <th>search_path</th>\n",
       "        </tr>\n",
       "    </thead>\n",
       "    <tbody>\n",
       "        <tr>\n",
       "            <td>\"$user\", public</td>\n",
       "        </tr>\n",
       "    </tbody>\n",
       "</table>"
      ],
      "text/plain": [
       "+-----------------+\n",
       "|   search_path   |\n",
       "+-----------------+\n",
       "| \"$user\", public |\n",
       "+-----------------+"
      ]
     },
     "execution_count": 12,
     "metadata": {},
     "output_type": "execute_result"
    }
   ],
   "source": [
    "%sql show search_path;"
   ]
  },
  {
   "cell_type": "code",
   "execution_count": null,
   "metadata": {},
   "outputs": [],
   "source": []
  }
 ],
 "metadata": {
  "kernelspec": {
   "display_name": "base",
   "language": "python",
   "name": "python3"
  },
  "language_info": {
   "codemirror_mode": {
    "name": "ipython",
    "version": 3
   },
   "file_extension": ".py",
   "mimetype": "text/x-python",
   "name": "python",
   "nbconvert_exporter": "python",
   "pygments_lexer": "ipython3",
   "version": "3.11.4"
  },
  "orig_nbformat": 4
 },
 "nbformat": 4,
 "nbformat_minor": 2
}
